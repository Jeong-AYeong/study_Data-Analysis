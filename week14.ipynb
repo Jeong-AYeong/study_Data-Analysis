{
 "cells": [
  {
   "cell_type": "markdown",
   "id": "2f09ef8c",
   "metadata": {},
   "source": [
    "## 로지스틱 회귀 분석\n",
    ">로지스틱 회귀 분석 : 입력에 대한 이진분류 학습 모델"
   ]
  },
  {
   "cell_type": "markdown",
   "id": "4dc76e60",
   "metadata": {},
   "source": [
    "### 목차\n",
    "* 로지스틱회귀분석\n",
    "* 생존가능 여부 분류예측 : 타이타닉 데이터셋"
   ]
  },
  {
   "cell_type": "code",
   "execution_count": 1,
   "id": "68036647",
   "metadata": {},
   "outputs": [
    {
     "data": {
      "text/html": [
       "<style>#sk-container-id-1 {color: black;background-color: white;}#sk-container-id-1 pre{padding: 0;}#sk-container-id-1 div.sk-toggleable {background-color: white;}#sk-container-id-1 label.sk-toggleable__label {cursor: pointer;display: block;width: 100%;margin-bottom: 0;padding: 0.3em;box-sizing: border-box;text-align: center;}#sk-container-id-1 label.sk-toggleable__label-arrow:before {content: \"▸\";float: left;margin-right: 0.25em;color: #696969;}#sk-container-id-1 label.sk-toggleable__label-arrow:hover:before {color: black;}#sk-container-id-1 div.sk-estimator:hover label.sk-toggleable__label-arrow:before {color: black;}#sk-container-id-1 div.sk-toggleable__content {max-height: 0;max-width: 0;overflow: hidden;text-align: left;background-color: #f0f8ff;}#sk-container-id-1 div.sk-toggleable__content pre {margin: 0.2em;color: black;border-radius: 0.25em;background-color: #f0f8ff;}#sk-container-id-1 input.sk-toggleable__control:checked~div.sk-toggleable__content {max-height: 200px;max-width: 100%;overflow: auto;}#sk-container-id-1 input.sk-toggleable__control:checked~label.sk-toggleable__label-arrow:before {content: \"▾\";}#sk-container-id-1 div.sk-estimator input.sk-toggleable__control:checked~label.sk-toggleable__label {background-color: #d4ebff;}#sk-container-id-1 div.sk-label input.sk-toggleable__control:checked~label.sk-toggleable__label {background-color: #d4ebff;}#sk-container-id-1 input.sk-hidden--visually {border: 0;clip: rect(1px 1px 1px 1px);clip: rect(1px, 1px, 1px, 1px);height: 1px;margin: -1px;overflow: hidden;padding: 0;position: absolute;width: 1px;}#sk-container-id-1 div.sk-estimator {font-family: monospace;background-color: #f0f8ff;border: 1px dotted black;border-radius: 0.25em;box-sizing: border-box;margin-bottom: 0.5em;}#sk-container-id-1 div.sk-estimator:hover {background-color: #d4ebff;}#sk-container-id-1 div.sk-parallel-item::after {content: \"\";width: 100%;border-bottom: 1px solid gray;flex-grow: 1;}#sk-container-id-1 div.sk-label:hover label.sk-toggleable__label {background-color: #d4ebff;}#sk-container-id-1 div.sk-serial::before {content: \"\";position: absolute;border-left: 1px solid gray;box-sizing: border-box;top: 0;bottom: 0;left: 50%;z-index: 0;}#sk-container-id-1 div.sk-serial {display: flex;flex-direction: column;align-items: center;background-color: white;padding-right: 0.2em;padding-left: 0.2em;position: relative;}#sk-container-id-1 div.sk-item {position: relative;z-index: 1;}#sk-container-id-1 div.sk-parallel {display: flex;align-items: stretch;justify-content: center;background-color: white;position: relative;}#sk-container-id-1 div.sk-item::before, #sk-container-id-1 div.sk-parallel-item::before {content: \"\";position: absolute;border-left: 1px solid gray;box-sizing: border-box;top: 0;bottom: 0;left: 50%;z-index: -1;}#sk-container-id-1 div.sk-parallel-item {display: flex;flex-direction: column;z-index: 1;position: relative;background-color: white;}#sk-container-id-1 div.sk-parallel-item:first-child::after {align-self: flex-end;width: 50%;}#sk-container-id-1 div.sk-parallel-item:last-child::after {align-self: flex-start;width: 50%;}#sk-container-id-1 div.sk-parallel-item:only-child::after {width: 0;}#sk-container-id-1 div.sk-dashed-wrapped {border: 1px dashed gray;margin: 0 0.4em 0.5em 0.4em;box-sizing: border-box;padding-bottom: 0.4em;background-color: white;}#sk-container-id-1 div.sk-label label {font-family: monospace;font-weight: bold;display: inline-block;line-height: 1.2em;}#sk-container-id-1 div.sk-label-container {text-align: center;}#sk-container-id-1 div.sk-container {/* jupyter's `normalize.less` sets `[hidden] { display: none; }` but bootstrap.min.css set `[hidden] { display: none !important; }` so we also need the `!important` here to be able to override the default hidden behavior on the sphinx rendered scikit-learn.org. See: https://github.com/scikit-learn/scikit-learn/issues/21755 */display: inline-block !important;position: relative;}#sk-container-id-1 div.sk-text-repr-fallback {display: none;}</style><div id=\"sk-container-id-1\" class=\"sk-top-container\"><div class=\"sk-text-repr-fallback\"><pre>LogisticRegression()</pre><b>In a Jupyter environment, please rerun this cell to show the HTML representation or trust the notebook. <br />On GitHub, the HTML representation is unable to render, please try loading this page with nbviewer.org.</b></div><div class=\"sk-container\" hidden><div class=\"sk-item\"><div class=\"sk-estimator sk-toggleable\"><input class=\"sk-toggleable__control sk-hidden--visually\" id=\"sk-estimator-id-1\" type=\"checkbox\" checked><label for=\"sk-estimator-id-1\" class=\"sk-toggleable__label sk-toggleable__label-arrow\">LogisticRegression</label><div class=\"sk-toggleable__content\"><pre>LogisticRegression()</pre></div></div></div></div></div>"
      ],
      "text/plain": [
       "LogisticRegression()"
      ]
     },
     "execution_count": 1,
     "metadata": {},
     "output_type": "execute_result"
    }
   ],
   "source": [
    "from sklearn.linear_model import LogisticRegression\n",
    "\n",
    "study_hour = [[2],[5],[1],[7],[3],[4],[17],[6],[8],[5]]\n",
    "class_pass = [0,1,0,1,0,0,1,1,1,0]\n",
    "lr = LogisticRegression()\n",
    "train_X = study_hour\n",
    "train_Y = class_pass\n",
    "lr.fit(train_X, train_Y)"
   ]
  },
  {
   "cell_type": "code",
   "execution_count": 2,
   "id": "1ad97fda",
   "metadata": {},
   "outputs": [
    {
     "name": "stdout",
     "output_type": "stream",
     "text": [
      "모델 정확도:  0.9\n",
      "로지스틱 모델이 예측한 y값:  [0, 0, 0, 1, 0, 0, 1, 1, 1, 0]\n",
      "실제 y값:  [0, 1, 0, 1, 0, 0, 1, 1, 1, 0]\n"
     ]
    }
   ],
   "source": [
    "print(\"모델 정확도: \", lr.score(train_X, train_Y))\n",
    "pred_Y = lr.predict(train_X)\n",
    "print(\"로지스틱 모델이 예측한 y값: \",list(pred_Y))\n",
    "print(\"실제 y값: \", train_Y)"
   ]
  },
  {
   "cell_type": "code",
   "execution_count": 3,
   "id": "74bf32fd",
   "metadata": {},
   "outputs": [
    {
     "name": "stdout",
     "output_type": "stream",
     "text": [
      "[0 1]\n"
     ]
    }
   ],
   "source": [
    "#학습된 모델로 새로운 데이터 입력에 대해 예측 값을 확인\n",
    "test_X = [[4.5],[5.5]]\n",
    "pred_Y = lr.predict(test_X)\n",
    "print(pred_Y)"
   ]
  },
  {
   "cell_type": "markdown",
   "id": "903fd786",
   "metadata": {},
   "source": [
    "## 생존 가능 여부 분류 예측 : 타이타닉 데이터셋"
   ]
  },
  {
   "cell_type": "code",
   "execution_count": 4,
   "id": "40e375da",
   "metadata": {},
   "outputs": [
    {
     "name": "stdout",
     "output_type": "stream",
     "text": [
      "     survived  pclass     sex   age  sibsp  parch     fare embarked   class  \\\n",
      "0           0       3    male  22.0      1      0   7.2500        S   Third   \n",
      "1           1       1  female  38.0      1      0  71.2833        C   First   \n",
      "2           1       3  female  26.0      0      0   7.9250        S   Third   \n",
      "3           1       1  female  35.0      1      0  53.1000        S   First   \n",
      "4           0       3    male  35.0      0      0   8.0500        S   Third   \n",
      "..        ...     ...     ...   ...    ...    ...      ...      ...     ...   \n",
      "886         0       2    male  27.0      0      0  13.0000        S  Second   \n",
      "887         1       1  female  19.0      0      0  30.0000        S   First   \n",
      "888         0       3  female   NaN      1      2  23.4500        S   Third   \n",
      "889         1       1    male  26.0      0      0  30.0000        C   First   \n",
      "890         0       3    male  32.0      0      0   7.7500        Q   Third   \n",
      "\n",
      "       who  adult_male deck  embark_town alive  alone  \n",
      "0      man        True  NaN  Southampton    no  False  \n",
      "1    woman       False    C    Cherbourg   yes  False  \n",
      "2    woman       False  NaN  Southampton   yes   True  \n",
      "3    woman       False    C  Southampton   yes  False  \n",
      "4      man        True  NaN  Southampton    no   True  \n",
      "..     ...         ...  ...          ...   ...    ...  \n",
      "886    man        True  NaN  Southampton    no   True  \n",
      "887  woman       False    B  Southampton   yes   True  \n",
      "888  woman       False  NaN  Southampton    no  False  \n",
      "889    man        True    C    Cherbourg   yes   True  \n",
      "890    man        True  NaN   Queenstown    no   True  \n",
      "\n",
      "[891 rows x 15 columns]\n"
     ]
    }
   ],
   "source": [
    "import numpy as np\n",
    "import pandas as pd\n",
    "import matplotlib.pyplot as plt\n",
    "import seaborn as sns\n",
    "titanic = sns.load_dataset('titanic')\n",
    "print(titanic)"
   ]
  },
  {
   "cell_type": "code",
   "execution_count": 5,
   "id": "c02c0fe4",
   "metadata": {},
   "outputs": [
    {
     "name": "stdout",
     "output_type": "stream",
     "text": [
      "==== 데이터 갯수 확인 ====\n",
      "survived      891\n",
      "pclass        891\n",
      "sex           891\n",
      "age           714\n",
      "sibsp         891\n",
      "parch         891\n",
      "fare          891\n",
      "embarked      889\n",
      "adult_male    891\n",
      "alone         891\n",
      "dtype: int64\n",
      "==== 데이터 타입 확인 ====\n",
      "<class 'pandas.core.frame.DataFrame'>\n",
      "RangeIndex: 891 entries, 0 to 890\n",
      "Data columns (total 10 columns):\n",
      " #   Column      Non-Null Count  Dtype  \n",
      "---  ------      --------------  -----  \n",
      " 0   survived    891 non-null    int64  \n",
      " 1   pclass      891 non-null    int64  \n",
      " 2   sex         891 non-null    object \n",
      " 3   age         714 non-null    float64\n",
      " 4   sibsp       891 non-null    int64  \n",
      " 5   parch       891 non-null    int64  \n",
      " 6   fare        891 non-null    float64\n",
      " 7   embarked    889 non-null    object \n",
      " 8   adult_male  891 non-null    bool   \n",
      " 9   alone       891 non-null    bool   \n",
      "dtypes: bool(2), float64(2), int64(4), object(2)\n",
      "memory usage: 57.6+ KB\n",
      "None\n"
     ]
    }
   ],
   "source": [
    "#필요한 컬럼만 남기고, 데이터 갯수와 타입 확인\n",
    "dataset = titanic.copy()\n",
    "dataset.drop(['class','who','deck','embark_town','alive'], axis=1, inplace=True)\n",
    "print(\"==== 데이터 갯수 확인 ====\")\n",
    "print(dataset.count())\n",
    "print(\"==== 데이터 타입 확인 ====\")\n",
    "print(dataset.info())"
   ]
  },
  {
   "cell_type": "markdown",
   "id": "4eca6a7d",
   "metadata": {},
   "source": [
    "* 데이터 변환!!"
   ]
  },
  {
   "cell_type": "code",
   "execution_count": 6,
   "id": "a635c6b8",
   "metadata": {},
   "outputs": [],
   "source": [
    "#선형 상관계수를 계산하거나, 회귀학습을 위해 선택된 데이터를 수치형 데이터로 변환!!\n",
    "def encoding_sex(x):\n",
    "    if x == 'male':\n",
    "        return 0\n",
    "    else:\n",
    "        return 1\n",
    "    \n",
    "def encoding_embarked(x):\n",
    "    if x == 'S':\n",
    "        return 0\n",
    "    elif x == 'C':\n",
    "        return 1\n",
    "    else:\n",
    "        return 2\n",
    "    \n",
    "def encoding_adult_male(x):\n",
    "    if x == True:\n",
    "        return 1\n",
    "    else:\n",
    "        return 0\n",
    "    \n",
    "def encoding_alone(x):\n",
    "    if x == True:\n",
    "        return 1\n",
    "    else:\n",
    "        return 0"
   ]
  },
  {
   "cell_type": "code",
   "execution_count": 7,
   "id": "488a90ce",
   "metadata": {},
   "outputs": [],
   "source": [
    "dataset['sex'] = dataset['sex'].apply(encoding_sex)\n",
    "dataset['embarked'] = dataset['embarked'].apply(encoding_embarked)\n",
    "dataset['alone'] = dataset['alone'].apply(encoding_alone)\n",
    "dataset['adult_male'] = dataset['adult_male'].apply(encoding_adult_male)"
   ]
  },
  {
   "cell_type": "code",
   "execution_count": 8,
   "id": "c0c73295",
   "metadata": {},
   "outputs": [
    {
     "name": "stdout",
     "output_type": "stream",
     "text": [
      "==== trainset의 평균값 ====\n",
      "survived       0.390013\n",
      "pclass         2.283401\n",
      "sex            0.349528\n",
      "age           30.150658\n",
      "sibsp          0.500675\n",
      "parch          0.379217\n",
      "fare          33.035385\n",
      "embarked       0.360324\n",
      "adult_male     0.605938\n",
      "alone          0.614035\n",
      "dtype: float64\n",
      "==== testset의 평균값 ====\n",
      "survived       0.353333\n",
      "pclass         2.433333\n",
      "sex            0.366667\n",
      "age           27.486198\n",
      "sibsp          0.633333\n",
      "parch          0.393333\n",
      "fare          28.098193\n",
      "embarked       0.393333\n",
      "adult_male     0.586667\n",
      "alone          0.546667\n",
      "dtype: float64\n"
     ]
    }
   ],
   "source": [
    "#데이터셋 분리(학습용/평가용)\n",
    "trainset = dataset.iloc[150: ]\n",
    "testset = dataset.iloc[ :150]\n",
    "print(\"==== trainset의 평균값 ====\")\n",
    "print(trainset.mean())\n",
    "print(\"==== testset의 평균값 ====\")\n",
    "print(testset.mean())"
   ]
  },
  {
   "cell_type": "code",
   "execution_count": 9,
   "id": "3a1e80df",
   "metadata": {},
   "outputs": [
    {
     "name": "stdout",
     "output_type": "stream",
     "text": [
      "survived      593\n",
      "pclass        593\n",
      "sex           593\n",
      "age           593\n",
      "sibsp         593\n",
      "parch         593\n",
      "fare          593\n",
      "embarked      593\n",
      "adult_male    593\n",
      "alone         593\n",
      "dtype: int64\n",
      "survived      121\n",
      "pclass        121\n",
      "sex           121\n",
      "age           121\n",
      "sibsp         121\n",
      "parch         121\n",
      "fare          121\n",
      "embarked      121\n",
      "adult_male    121\n",
      "alone         121\n",
      "dtype: int64\n"
     ]
    },
    {
     "name": "stderr",
     "output_type": "stream",
     "text": [
      "<ipython-input-9-c84345cf04f8>:2: SettingWithCopyWarning: \n",
      "A value is trying to be set on a copy of a slice from a DataFrame\n",
      "\n",
      "See the caveats in the documentation: https://pandas.pydata.org/pandas-docs/stable/user_guide/indexing.html#returning-a-view-versus-a-copy\n",
      "  trainset.dropna(inplace=True)\n",
      "<ipython-input-9-c84345cf04f8>:3: SettingWithCopyWarning: \n",
      "A value is trying to be set on a copy of a slice from a DataFrame\n",
      "\n",
      "See the caveats in the documentation: https://pandas.pydata.org/pandas-docs/stable/user_guide/indexing.html#returning-a-view-versus-a-copy\n",
      "  testset.dropna(inplace=True)\n"
     ]
    }
   ],
   "source": [
    "#결측데이터 제거\n",
    "trainset.dropna(inplace=True)\n",
    "testset.dropna(inplace=True)\n",
    "print(trainset.count())\n",
    "print(testset.count())"
   ]
  },
  {
   "cell_type": "code",
   "execution_count": 10,
   "id": "16171373",
   "metadata": {},
   "outputs": [
    {
     "name": "stdout",
     "output_type": "stream",
     "text": [
      "survived      1.000000\n",
      "pclass       -0.401617\n",
      "sex           0.535314\n",
      "age          -0.081432\n",
      "sibsp         0.010953\n",
      "parch         0.099588\n",
      "fare          0.307583\n",
      "embarked      0.128869\n",
      "adult_male   -0.556944\n",
      "alone        -0.235429\n",
      "Name: survived, dtype: float64\n"
     ]
    }
   ],
   "source": [
    "#상관계수 확인\n",
    "res = trainset.corr()\n",
    "print(res['survived'])"
   ]
  },
  {
   "cell_type": "code",
   "execution_count": 11,
   "id": "b5d7d199",
   "metadata": {},
   "outputs": [
    {
     "data": {
      "image/png": "[encoded data removed]",
      "text/plain": [
       "<Figure size 770.875x360 with 2 Axes>"
      ]
     },
     "metadata": {
      "needs_background": "light"
     },
     "output_type": "display_data"
    },
    {
     "data": {
      "image/png": "[encoded data removed]",
      "text/plain": [
       "<Figure size 770.875x360 with 2 Axes>"
      ]
     },
     "metadata": {
      "needs_background": "light"
     },
     "output_type": "display_data"
    },
    {
     "data": {
      "image/png": "[encoded data removed]",
      "text/plain": [
       "<Figure size 770.875x360 with 2 Axes>"
      ]
     },
     "metadata": {
      "needs_background": "light"
     },
     "output_type": "display_data"
    },
    {
     "data": {
      "image/png": "[encoded data removed]",
      "text/plain": [
       "<Figure size 770.875x360 with 2 Axes>"
      ]
     },
     "metadata": {
      "needs_background": "light"
     },
     "output_type": "display_data"
    },
    {
     "data": {
      "image/png": "[encoded data removed]",
      "text/plain": [
       "<Figure size 770.875x360 with 2 Axes>"
      ]
     },
     "metadata": {
      "needs_background": "light"
     },
     "output_type": "display_data"
    },
    {
     "data": {
      "image/png": "[encoded data removed]",
      "text/plain": [
       "<Figure size 770.875x360 with 2 Axes>"
      ]
     },
     "metadata": {
      "needs_background": "light"
     },
     "output_type": "display_data"
    },
    {
     "data": {
      "image/png": "[encoded data removed]",
      "text/plain": [
       "<Figure size 770.875x360 with 2 Axes>"
      ]
     },
     "metadata": {
      "needs_background": "light"
     },
     "output_type": "display_data"
    },
    {
     "data": {
      "image/png": "[encoded data removed]",
      "text/plain": [
       "<Figure size 770.875x360 with 2 Axes>"
      ]
     },
     "metadata": {
      "needs_background": "light"
     },
     "output_type": "display_data"
    },
    {
     "data": {
      "image/png": "[encoded data removed]",
      "text/plain": [
       "<Figure size 770.875x360 with 2 Axes>"
      ]
     },
     "metadata": {
      "needs_background": "light"
     },
     "output_type": "display_data"
    }
   ],
   "source": [
    "for c in trainset.columns:\n",
    "    if c != 'survived':\n",
    "        sns.displot(x = c, col = 'survived', hue = 'survived', data=trainset)\n",
    "        plt.show"
   ]
  },
  {
   "cell_type": "code",
   "execution_count": 12,
   "id": "94c30999",
   "metadata": {},
   "outputs": [
    {
     "data": {
      "text/html": [
       "<style>#sk-container-id-2 {color: black;background-color: white;}#sk-container-id-2 pre{padding: 0;}#sk-container-id-2 div.sk-toggleable {background-color: white;}#sk-container-id-2 label.sk-toggleable__label {cursor: pointer;display: block;width: 100%;margin-bottom: 0;padding: 0.3em;box-sizing: border-box;text-align: center;}#sk-container-id-2 label.sk-toggleable__label-arrow:before {content: \"▸\";float: left;margin-right: 0.25em;color: #696969;}#sk-container-id-2 label.sk-toggleable__label-arrow:hover:before {color: black;}#sk-container-id-2 div.sk-estimator:hover label.sk-toggleable__label-arrow:before {color: black;}#sk-container-id-2 div.sk-toggleable__content {max-height: 0;max-width: 0;overflow: hidden;text-align: left;background-color: #f0f8ff;}#sk-container-id-2 div.sk-toggleable__content pre {margin: 0.2em;color: black;border-radius: 0.25em;background-color: #f0f8ff;}#sk-container-id-2 input.sk-toggleable__control:checked~div.sk-toggleable__content {max-height: 200px;max-width: 100%;overflow: auto;}#sk-container-id-2 input.sk-toggleable__control:checked~label.sk-toggleable__label-arrow:before {content: \"▾\";}#sk-container-id-2 div.sk-estimator input.sk-toggleable__control:checked~label.sk-toggleable__label {background-color: #d4ebff;}#sk-container-id-2 div.sk-label input.sk-toggleable__control:checked~label.sk-toggleable__label {background-color: #d4ebff;}#sk-container-id-2 input.sk-hidden--visually {border: 0;clip: rect(1px 1px 1px 1px);clip: rect(1px, 1px, 1px, 1px);height: 1px;margin: -1px;overflow: hidden;padding: 0;position: absolute;width: 1px;}#sk-container-id-2 div.sk-estimator {font-family: monospace;background-color: #f0f8ff;border: 1px dotted black;border-radius: 0.25em;box-sizing: border-box;margin-bottom: 0.5em;}#sk-container-id-2 div.sk-estimator:hover {background-color: #d4ebff;}#sk-container-id-2 div.sk-parallel-item::after {content: \"\";width: 100%;border-bottom: 1px solid gray;flex-grow: 1;}#sk-container-id-2 div.sk-label:hover label.sk-toggleable__label {background-color: #d4ebff;}#sk-container-id-2 div.sk-serial::before {content: \"\";position: absolute;border-left: 1px solid gray;box-sizing: border-box;top: 0;bottom: 0;left: 50%;z-index: 0;}#sk-container-id-2 div.sk-serial {display: flex;flex-direction: column;align-items: center;background-color: white;padding-right: 0.2em;padding-left: 0.2em;position: relative;}#sk-container-id-2 div.sk-item {position: relative;z-index: 1;}#sk-container-id-2 div.sk-parallel {display: flex;align-items: stretch;justify-content: center;background-color: white;position: relative;}#sk-container-id-2 div.sk-item::before, #sk-container-id-2 div.sk-parallel-item::before {content: \"\";position: absolute;border-left: 1px solid gray;box-sizing: border-box;top: 0;bottom: 0;left: 50%;z-index: -1;}#sk-container-id-2 div.sk-parallel-item {display: flex;flex-direction: column;z-index: 1;position: relative;background-color: white;}#sk-container-id-2 div.sk-parallel-item:first-child::after {align-self: flex-end;width: 50%;}#sk-container-id-2 div.sk-parallel-item:last-child::after {align-self: flex-start;width: 50%;}#sk-container-id-2 div.sk-parallel-item:only-child::after {width: 0;}#sk-container-id-2 div.sk-dashed-wrapped {border: 1px dashed gray;margin: 0 0.4em 0.5em 0.4em;box-sizing: border-box;padding-bottom: 0.4em;background-color: white;}#sk-container-id-2 div.sk-label label {font-family: monospace;font-weight: bold;display: inline-block;line-height: 1.2em;}#sk-container-id-2 div.sk-label-container {text-align: center;}#sk-container-id-2 div.sk-container {/* jupyter's `normalize.less` sets `[hidden] { display: none; }` but bootstrap.min.css set `[hidden] { display: none !important; }` so we also need the `!important` here to be able to override the default hidden behavior on the sphinx rendered scikit-learn.org. See: https://github.com/scikit-learn/scikit-learn/issues/21755 */display: inline-block !important;position: relative;}#sk-container-id-2 div.sk-text-repr-fallback {display: none;}</style><div id=\"sk-container-id-2\" class=\"sk-top-container\"><div class=\"sk-text-repr-fallback\"><pre>LogisticRegression(max_iter=300)</pre><b>In a Jupyter environment, please rerun this cell to show the HTML representation or trust the notebook. <br />On GitHub, the HTML representation is unable to render, please try loading this page with nbviewer.org.</b></div><div class=\"sk-container\" hidden><div class=\"sk-item\"><div class=\"sk-estimator sk-toggleable\"><input class=\"sk-toggleable__control sk-hidden--visually\" id=\"sk-estimator-id-2\" type=\"checkbox\" checked><label for=\"sk-estimator-id-2\" class=\"sk-toggleable__label sk-toggleable__label-arrow\">LogisticRegression</label><div class=\"sk-toggleable__content\"><pre>LogisticRegression(max_iter=300)</pre></div></div></div></div></div>"
      ],
      "text/plain": [
       "LogisticRegression(max_iter=300)"
      ]
     },
     "execution_count": 12,
     "metadata": {},
     "output_type": "execute_result"
    }
   ],
   "source": [
    "#로지스틱 회귀모델 학습!! 충분한 학습을 위해 max_iter값을 높이자\n",
    "lr = LogisticRegression(max_iter = 300)\n",
    "train_X = trainset.drop(['survived'], axis=1)\n",
    "train_Y = trainset['survived']\n",
    "test_X = testset.drop(['survived'], axis = 1)\n",
    "test_Y = testset['survived']\n",
    "lr.fit(train_X, train_Y)"
   ]
  },
  {
   "cell_type": "markdown",
   "id": "244329ac",
   "metadata": {},
   "source": [
    "### 독립변수 선택에 따른 모델 성능 ?!?"
   ]
  },
  {
   "cell_type": "markdown",
   "id": "9a1166f7",
   "metadata": {},
   "source": [
    "1. 사용할 독립변수를 설정 => 데이터탐색, 시각화 과정을 통해서,,"
   ]
  },
  {
   "cell_type": "code",
   "execution_count": 13,
   "id": "ac4a89d4",
   "metadata": {},
   "outputs": [
    {
     "name": "stdout",
     "output_type": "stream",
     "text": [
      "학습데이터 정확도:  0.8330522765598651\n",
      "평가데이터 정확도:  0.8099173553719008\n"
     ]
    }
   ],
   "source": [
    "columns = ['pclass','sex','age','sibsp','fare','adult_male']\n",
    "train_X = trainset[columns]\n",
    "train_Y = trainset['survived']\n",
    "test_X = testset[columns]\n",
    "test_Y = testset['survived']\n",
    "lr.fit(train_X, train_Y)\n",
    "print(\"학습데이터 정확도: \", lr.score(train_X, train_Y))\n",
    "print(\"평가데이터 정확도: \", lr.score(test_X, test_Y))"
   ]
  },
  {
   "cell_type": "markdown",
   "id": "ac51f7e6",
   "metadata": {},
   "source": [
    "2. 학습 데이터셋에서 age 결측된 행 제거 ==> age 값을 평균값으로 대체 해보기!"
   ]
  },
  {
   "cell_type": "code",
   "execution_count": 14,
   "id": "375c44c5",
   "metadata": {},
   "outputs": [
    {
     "name": "stdout",
     "output_type": "stream",
     "text": [
      "학습데이터 정확도:  0.8232118758434548\n",
      "평가데이터 정확도:  0.8099173553719008\n"
     ]
    }
   ],
   "source": [
    "trainset = dataset.iloc[150:].copy()\n",
    "trainset.fillna(trainset['age'].mean(), inplace=True)\n",
    "columns = ['pclass','sex','age','sibsp','fare','adult_male']\n",
    "train_X = trainset[columns]\n",
    "train_Y = trainset['survived']\n",
    "#testset은 결측데이터가 제거된 버전을 계속 사용하기!!!\n",
    "test_X = testset[columns]\n",
    "test_Y = testset['survived']\n",
    "lr.fit(train_X, train_Y)\n",
    "print(\"학습데이터 정확도: \", lr.score(train_X, train_Y))\n",
    "print(\"평가데이터 정확도: \", lr.score(test_X, test_Y))"
   ]
  }
 ],
 "metadata": {
  "kernelspec": {
   "display_name": "Python 3",
   "language": "python",
   "name": "python3"
  },
  "language_info": {
   "codemirror_mode": {
    "name": "ipython",
    "version": 3
   },
   "file_extension": ".py",
   "mimetype": "text/x-python",
   "name": "python",
   "nbconvert_exporter": "python",
   "pygments_lexer": "ipython3",
   "version": "3.8.13"
  }
 },
 "nbformat": 4,
 "nbformat_minor": 5
}
