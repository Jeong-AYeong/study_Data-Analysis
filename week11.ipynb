{
 "cells": [
  {
   "cell_type": "markdown",
   "id": "e0885be1",
   "metadata": {},
   "source": [
    "# 데이터 전처리"
   ]
  },
  {
   "cell_type": "markdown",
   "id": "317df01d",
   "metadata": {},
   "source": [
    " ### 목차\n",
    "* 중복데이터 처리\n",
    "* 결측데이터 처리\n",
    "* 이상데이터 처리\n",
    "* **타이타닉 생존자 데이터셋 전처리**"
   ]
  },
  {
   "cell_type": "code",
   "execution_count": 1,
   "id": "9b30d264",
   "metadata": {},
   "outputs": [],
   "source": [
    "import pandas as pd\n",
    "import numpy as np\n",
    "import matplotlib as mpl\n",
    "import matplotlib.pyplot as plt"
   ]
  },
  {
   "cell_type": "markdown",
   "id": "1a890392",
   "metadata": {},
   "source": [
    "### 중복데이터처리(df.duplicated())"
   ]
  },
  {
   "cell_type": "code",
   "execution_count": 2,
   "id": "0ffb3dd0",
   "metadata": {},
   "outputs": [
    {
     "name": "stdout",
     "output_type": "stream",
     "text": [
      "   item_id company   item_name  price   color\n",
      "0        1       A       apple  15000     red\n",
      "1        1       A       apple  15000     red\n",
      "2        2       B      banana   4750  yellow\n",
      "3        2       B      banana   4750  yellow\n",
      "4        2       B      banana   4750  yellow\n",
      "5        2       C      banana   4200  yellow\n",
      "6        3       A       grape  13000  purple\n",
      "7        4       C  watermelon  18000   green\n"
     ]
    }
   ],
   "source": [
    "dict_1 = {\n",
    "    'item_id' : [1, 1, 2, 2, 2, 2, 3, 4],\n",
    "    'company' : ['A', 'A', 'B', 'B', 'B', 'C', 'A', 'C'],\n",
    "    'item_name' : ['apple', 'apple', 'banana', 'banana', 'banana', 'banana', 'grape', 'watermelon'],\n",
    "    'price' : [15000, 15000, 4750, 4750, 4750, 4200, 13000, 18000],\n",
    "    'color' : ['red', 'red', 'yellow', 'yellow', 'yellow', 'yellow', 'purple', 'green']\n",
    "}\n",
    "\n",
    "df_1 = pd.DataFrame(dict_1)\n",
    "print(df_1)"
   ]
  },
  {
   "cell_type": "code",
   "execution_count": 3,
   "id": "fea33a55",
   "metadata": {},
   "outputs": [
    {
     "name": "stdout",
     "output_type": "stream",
     "text": [
      "0    False\n",
      "1     True\n",
      "2    False\n",
      "3     True\n",
      "4     True\n",
      "5    False\n",
      "6    False\n",
      "7    False\n",
      "dtype: bool\n",
      "\n",
      "   item_id company   item_name  price   color\n",
      "0        1       A       apple  15000     red\n",
      "2        2       B      banana   4750  yellow\n",
      "5        2       C      banana   4200  yellow\n",
      "6        3       A       grape  13000  purple\n",
      "7        4       C  watermelon  18000   green\n",
      "\n",
      "item_id           3\n",
      "company           A\n",
      "item_name     grape\n",
      "price         13000\n",
      "color        purple\n",
      "Name: 6, dtype: object\n",
      "\n",
      "item_id           3\n",
      "company           A\n",
      "item_name     grape\n",
      "price         13000\n",
      "color        purple\n",
      "Name: 6, dtype: object\n",
      "\n"
     ]
    }
   ],
   "source": [
    "# 1. 중복된 행은 True로 표시함\n",
    "duplicated_bool = df_1.duplicated()\n",
    "print(duplicated_bool)\n",
    "print()\n",
    "# 2. 중복된 행 삭제 후 데이터프레임 출력\n",
    "df_1.drop_duplicates(inplace = True)\n",
    "print(df_1)\n",
    "print()\n",
    "# 3. 인덱스 번호로 특정 행 추출\n",
    "print(df_1.loc[6])\n",
    "print()\n",
    "# 4. 컬럼명으로 특정 행 추출\n",
    "print(df_1.iloc[3])\n",
    "print()"
   ]
  },
  {
   "cell_type": "markdown",
   "id": "7e789bcf",
   "metadata": {},
   "source": [
    "* 인덱스 초기화"
   ]
  },
  {
   "cell_type": "code",
   "execution_count": 4,
   "id": "60b782d0",
   "metadata": {},
   "outputs": [
    {
     "name": "stdout",
     "output_type": "stream",
     "text": [
      "   item_id company   item_name  price   color\n",
      "0        1       A       apple  15000     red\n",
      "2        2       B      banana   4750  yellow\n",
      "5        2       C      banana   4200  yellow\n",
      "6        3       A       grape  13000  purple\n",
      "7        4       C  watermelon  18000   green\n",
      "\n",
      " \t ----인덱스 초기화 후---- \n",
      "\n",
      "   item_id company   item_name  price   color\n",
      "0        1       A       apple  15000     red\n",
      "1        2       B      banana   4750  yellow\n",
      "2        2       C      banana   4200  yellow\n",
      "3        3       A       grape  13000  purple\n",
      "4        4       C  watermelon  18000   green\n"
     ]
    }
   ],
   "source": [
    "# 인덱스 초기화!!\n",
    "print(df_1)\n",
    "print('\\n \\t ----인덱스 초기화 후---- \\n')\n",
    "df_1.reset_index(inplace = True, drop = True)\n",
    "print(df_1)"
   ]
  },
  {
   "cell_type": "markdown",
   "id": "f35e3b1d",
   "metadata": {},
   "source": [
    "### 결측 데이터 처리"
   ]
  },
  {
   "cell_type": "code",
   "execution_count": 5,
   "id": "735e8eb7",
   "metadata": {},
   "outputs": [
    {
     "name": "stdout",
     "output_type": "stream",
     "text": [
      "   col1  col2   col3\n",
      "0   1.0  10.0    NaN\n",
      "1   2.0  20.0  200.0\n",
      "2   3.0   NaN  300.0\n",
      "3   NaN  40.0  400.0\n",
      "4   NaN  50.0    NaN\n",
      "\n",
      " ====결측치는 True로 표시 ==== \n",
      "\n",
      "    col1   col2   col3\n",
      "0  False  False   True\n",
      "1  False  False  False\n",
      "2  False   True  False\n",
      "3   True  False  False\n",
      "4   True  False   True\n"
     ]
    }
   ],
   "source": [
    "dict_1 = {\n",
    "    'col1' : [1, 2, 3, np.nan, np.nan],\n",
    "    'col2' : [10, 20, np.nan, 40, 50],\n",
    "    'col3' : [np.nan, 200, 300, 400, np.nan]\n",
    "}\n",
    "df_2 = pd.DataFrame(dict_1)\n",
    "print(df_2)\n",
    "print(\"\\n ====결측치는 True로 표시 ==== \\n\")\n",
    "print(pd.isna(df_2))\n",
    "#print(pd.isnull(df_2))"
   ]
  },
  {
   "cell_type": "code",
   "execution_count": 6,
   "id": "2754bd57",
   "metadata": {},
   "outputs": [
    {
     "name": "stdout",
     "output_type": "stream",
     "text": [
      "<결측 값 존재하는 행 제거>\n",
      "   col1  col2   col3\n",
      "1   2.0  20.0  200.0\n",
      "\n",
      "<결측 값을 0으로 채우기>\n",
      "   col1  col2   col3\n",
      "0   1.0  10.0    0.0\n",
      "1   2.0  20.0  200.0\n",
      "2   3.0   0.0  300.0\n",
      "3   0.0  40.0  400.0\n",
      "4   0.0  50.0    0.0\n",
      "\n",
      "<결측 값을 열 평균 값으로 채우기>\n",
      "   col1  col2   col3\n",
      "0   1.0  10.0  300.0\n",
      "1   2.0  20.0  200.0\n",
      "2   3.0  30.0  300.0\n",
      "3   2.0  40.0  400.0\n",
      "4   2.0  50.0  300.0\n"
     ]
    }
   ],
   "source": [
    "df_3 = df_2.copy()\n",
    "#결측 값 존재하는 행 제거\n",
    "df_3.dropna(inplace = True)\n",
    "print(\"<결측 값 존재하는 행 제거>\")\n",
    "print(df_3)\n",
    "\n",
    "df_3 = df_2.copy()\n",
    "#결측 값을 0으로 채우기\n",
    "df_3.fillna(0, inplace = True)\n",
    "print(\"\\n<결측 값을 0으로 채우기>\")\n",
    "print(df_3)\n",
    "\n",
    "df_3 = df_2.copy()\n",
    "#결측 값을 열 평균 값으로 채우기\n",
    "df_3.fillna(df_3.mean(), inplace = True)\n",
    "print(\"\\n<결측 값을 열 평균 값으로 채우기>\")\n",
    "print(df_3)"
   ]
  },
  {
   "cell_type": "markdown",
   "id": "7ead5683",
   "metadata": {},
   "source": [
    "### 이상데이터처리"
   ]
  },
  {
   "cell_type": "markdown",
   "id": "18460853",
   "metadata": {},
   "source": [
    "* 낮은 이상치 : (Q1 - 1.5 *IQR)보다 작은 값\n",
    "* 높은 이상치 : (Q3 + 1.5 *IQR)보다 높은 값"
   ]
  },
  {
   "cell_type": "code",
   "execution_count": 7,
   "id": "8d23ca8c",
   "metadata": {},
   "outputs": [
    {
     "data": {
      "image/png": "[encoded data removed]",
      "text/plain": [
       "<Figure size 1152x576 with 1 Axes>"
      ]
     },
     "metadata": {
      "needs_background": "light"
     },
     "output_type": "display_data"
    }
   ],
   "source": [
    "data = np.random.randn(1000)\n",
    "plt.figure(figsize=(16,8))\n",
    "plt.plot(data,'o')\n",
    "plt.show()"
   ]
  },
  {
   "cell_type": "code",
   "execution_count": 8,
   "id": "0a2a01d1",
   "metadata": {},
   "outputs": [
    {
     "data": {
      "image/png": "[encoded data removed]",
      "text/plain": [
       "<Figure size 1152x576 with 1 Axes>"
      ]
     },
     "metadata": {
      "needs_background": "light"
     },
     "output_type": "display_data"
    }
   ],
   "source": [
    "ol_data = data.copy()\n",
    "ol_num = 10\n",
    "for i in range(ol_num):\n",
    "    rand_id = np.random.randint(0,len(data))\n",
    "    ol_data[rand_id] = ol_data[rand_id]*5\n",
    "plt.figure(figsize=(16,8))\n",
    "plt.plot(ol_data, 'o-')\n",
    "plt.show()"
   ]
  },
  {
   "cell_type": "markdown",
   "id": "9e23b51f",
   "metadata": {},
   "source": [
    "* 사분위수 메소드 quantile() 사용!"
   ]
  },
  {
   "cell_type": "code",
   "execution_count": 30,
   "id": "41f68238",
   "metadata": {},
   "outputs": [
    {
     "name": "stdout",
     "output_type": "stream",
     "text": [
      "Q1: -0.6842151385455126\n",
      "Q3:  0.7193800200880047\n",
      "IQR:  1.4035951586335174\n",
      "5\n",
      "4\n"
     ]
    },
    {
     "data": {
      "image/png": "[encoded data removed]",
      "text/plain": [
       "<Figure size 432x288 with 1 Axes>"
      ]
     },
     "metadata": {
      "needs_background": "light"
     },
     "output_type": "display_data"
    }
   ],
   "source": [
    "ol_data2 = pd.Series(ol_data)    #넘파이 배열은 사분위수 사용 불가능이므로 시리즈로 변환!!\n",
    "plt.boxplot(ol_data2)\n",
    "Q1 = ol_data2.quantile(0.25)\n",
    "Q3 = ol_data2.quantile(0.75)\n",
    "#Q3 = ol_data.quantile(0.75)\n",
    "IQR = Q3 - Q1\n",
    "print(\"Q1:\", Q1)\n",
    "print(\"Q3: \", Q3)\n",
    "print(\"IQR: \", IQR)\n",
    "print(ol_data2[ol_data2 > (Q3 + 1.5 *IQR)].count())\n",
    "print(ol_data2[ol_data2 < (Q1 - 1.5 *IQR)].count())"
   ]
  },
  {
   "cell_type": "markdown",
   "id": "75871e51",
   "metadata": {},
   "source": [
    "## 타이타닉 생존자 데이터셋 전처리"
   ]
  },
  {
   "cell_type": "code",
   "execution_count": 31,
   "id": "5a103b23",
   "metadata": {},
   "outputs": [
    {
     "name": "stdout",
     "output_type": "stream",
     "text": [
      "     survived  pclass     sex   age  sibsp  parch     fare embarked   class  \\\n",
      "0           0       3    male  22.0      1      0   7.2500        S   Third   \n",
      "1           1       1  female  38.0      1      0  71.2833        C   First   \n",
      "2           1       3  female  26.0      0      0   7.9250        S   Third   \n",
      "3           1       1  female  35.0      1      0  53.1000        S   First   \n",
      "4           0       3    male  35.0      0      0   8.0500        S   Third   \n",
      "..        ...     ...     ...   ...    ...    ...      ...      ...     ...   \n",
      "886         0       2    male  27.0      0      0  13.0000        S  Second   \n",
      "887         1       1  female  19.0      0      0  30.0000        S   First   \n",
      "888         0       3  female   NaN      1      2  23.4500        S   Third   \n",
      "889         1       1    male  26.0      0      0  30.0000        C   First   \n",
      "890         0       3    male  32.0      0      0   7.7500        Q   Third   \n",
      "\n",
      "       who  adult_male deck  embark_town alive  alone  \n",
      "0      man        True  NaN  Southampton    no  False  \n",
      "1    woman       False    C    Cherbourg   yes  False  \n",
      "2    woman       False  NaN  Southampton   yes   True  \n",
      "3    woman       False    C  Southampton   yes  False  \n",
      "4      man        True  NaN  Southampton    no   True  \n",
      "..     ...         ...  ...          ...   ...    ...  \n",
      "886    man        True  NaN  Southampton    no   True  \n",
      "887  woman       False    B  Southampton   yes   True  \n",
      "888  woman       False  NaN  Southampton    no  False  \n",
      "889    man        True    C    Cherbourg   yes   True  \n",
      "890    man        True  NaN   Queenstown    no   True  \n",
      "\n",
      "[891 rows x 15 columns]\n"
     ]
    }
   ],
   "source": [
    "import seaborn as sns\n",
    "titanic = sns.load_dataset('titanic')\n",
    "print(titanic)"
   ]
  },
  {
   "cell_type": "markdown",
   "id": "0f6b6afc",
   "metadata": {},
   "source": [
    "1) 원본데이터 copy(백업) "
   ]
  },
  {
   "cell_type": "code",
   "execution_count": 32,
   "id": "32140a31",
   "metadata": {},
   "outputs": [
    {
     "name": "stdout",
     "output_type": "stream",
     "text": [
      "1546322133488 1546322133680\n"
     ]
    }
   ],
   "source": [
    "data = titanic.copy()    #데이터 복사하기\n",
    "print(id(data), id(titanic)) #=> 서로 다른 메모리 주소에 저장되어 있음을 확인 가능"
   ]
  },
  {
   "cell_type": "markdown",
   "id": "d3a7e470",
   "metadata": {},
   "source": [
    "2) 중복 데이터 처리 "
   ]
  },
  {
   "cell_type": "code",
   "execution_count": 33,
   "id": "875f633b",
   "metadata": {},
   "outputs": [
    {
     "name": "stdout",
     "output_type": "stream",
     "text": [
      "107\n",
      "\n",
      "survived       784\n",
      "pclass         784\n",
      "sex            784\n",
      "age            678\n",
      "sibsp          784\n",
      "parch          784\n",
      "fare           784\n",
      "embarked       782\n",
      "class          784\n",
      "who            784\n",
      "adult_male     784\n",
      "deck           202\n",
      "embark_town    782\n",
      "alive          784\n",
      "alone          784\n",
      "dtype: int64\n",
      "\n",
      "survived       891\n",
      "pclass         891\n",
      "sex            891\n",
      "age            714\n",
      "sibsp          891\n",
      "parch          891\n",
      "fare           891\n",
      "embarked       889\n",
      "class          891\n",
      "who            891\n",
      "adult_male     891\n",
      "deck           203\n",
      "embark_town    889\n",
      "alive          891\n",
      "alone          891\n",
      "dtype: int64\n"
     ]
    }
   ],
   "source": [
    "dup = data.duplicated()\n",
    "print(dup.sum())    #중복 데이터 개수 출력\n",
    "print()\n",
    "#중복 데이터 삭제\n",
    "data.drop_duplicates(inplace = True)\n",
    "print(data.count())\n",
    "print()\n",
    "print(titanic.count())"
   ]
  },
  {
   "cell_type": "markdown",
   "id": "576641f3",
   "metadata": {},
   "source": [
    "3) 결측 데이터 처리"
   ]
  },
  {
   "cell_type": "code",
   "execution_count": 34,
   "id": "cf35f96c",
   "metadata": {
    "scrolled": true
   },
   "outputs": [
    {
     "name": "stdout",
     "output_type": "stream",
     "text": [
      "===각 열의 데이터 개수===\n",
      "survived    784\n",
      "sex         784\n",
      "fare        784\n",
      "age         678\n",
      "dtype: int64\n",
      "\n",
      "===결측 데이터 개수===\n",
      "survived      0\n",
      "sex           0\n",
      "fare          0\n",
      "age         106\n",
      "dtype: int64\n",
      "===각 열 데이터 개수 확인===\n",
      "survived    678\n",
      "sex         678\n",
      "fare        678\n",
      "age         678\n",
      "dtype: int64\n"
     ]
    },
    {
     "name": "stderr",
     "output_type": "stream",
     "text": [
      "<ipython-input-34-da63e72ac6f6>:11: SettingWithCopyWarning: \n",
      "A value is trying to be set on a copy of a slice from a DataFrame\n",
      "\n",
      "See the caveats in the documentation: https://pandas.pydata.org/pandas-docs/stable/user_guide/indexing.html#returning-a-view-versus-a-copy\n",
      "  data2.dropna(inplace=True)\n"
     ]
    }
   ],
   "source": [
    "#일부 열만 가져오기\n",
    "data2 = data[[\"survived\",\"sex\",\"fare\",\"age\"]]\n",
    "#각 열의 데이터 개수 확인\n",
    "print(\"===각 열의 데이터 개수===\")\n",
    "print(data2.count())\n",
    "print()\n",
    "#결측 데이터 개수 확인\n",
    "print(\"===결측 데이터 개수===\")\n",
    "print(data2.isna().sum())\n",
    "#결측 데이터 삭제\n",
    "data2.dropna(inplace=True)\n",
    "#각 열 데이터 개수 확인\n",
    "print(\"===각 열 데이터 개수 확인===\")\n",
    "print(data2.count())"
   ]
  },
  {
   "cell_type": "markdown",
   "id": "c84fadf8",
   "metadata": {},
   "source": [
    "4) 이상 데이터 처리\n",
    "* 사분위 기준 이상 데이터 존재 유무 확인"
   ]
  },
  {
   "cell_type": "code",
   "execution_count": 35,
   "id": "cb9f62eb",
   "metadata": {},
   "outputs": [
    {
     "data": {
      "image/png": "[encoded data removed]",
      "text/plain": [
       "<Figure size 432x288 with 1 Axes>"
      ]
     },
     "metadata": {
      "needs_background": "light"
     },
     "output_type": "display_data"
    },
    {
     "name": "stdout",
     "output_type": "stream",
     "text": [
      "Q1:  8.05\n",
      "Q3:  35.28855\n",
      "679    512.3292\n",
      "737    512.3292\n",
      "258    512.3292\n",
      "27     263.0000\n",
      "438    263.0000\n",
      "         ...   \n",
      "102     77.2875\n",
      "681     76.7292\n",
      "52      76.7292\n",
      "645     76.7292\n",
      "218     76.2917\n",
      "Name: fare, Length: 88, dtype: float64\n"
     ]
    }
   ],
   "source": [
    "sns.boxplot(data=data2)\n",
    "plt.show()\n",
    "ser = data2['fare']\n",
    "Q1 = ser.quantile(0.25)\n",
    "Q3 = ser.quantile(0.75)\n",
    "print(\"Q1: \", Q1)\n",
    "print(\"Q3: \", Q3)\n",
    "IQR = Q3 - Q1\n",
    "idx = ser[ser > (Q3 + 1.5 * IQR)].index\n",
    "print(ser[idx].sort_values(ascending = False))"
   ]
  },
  {
   "cell_type": "markdown",
   "id": "952c0ed9",
   "metadata": {},
   "source": [
    "* 범주형 데이터 이상 여부??"
   ]
  },
  {
   "cell_type": "code",
   "execution_count": 36,
   "id": "1a4d0af1",
   "metadata": {},
   "outputs": [
    {
     "name": "stdout",
     "output_type": "stream",
     "text": [
      "0    394\n",
      "1    284\n",
      "Name: survived, dtype: int64\n",
      "\n",
      "male      422\n",
      "female    256\n",
      "Name: sex, dtype: int64\n"
     ]
    }
   ],
   "source": [
    "print(data2['survived'].value_counts())\n",
    "print()\n",
    "print(data2['sex'].value_counts())"
   ]
  },
  {
   "cell_type": "code",
   "execution_count": 37,
   "id": "4f5194df",
   "metadata": {},
   "outputs": [],
   "source": [
    "def encoding(x):\n",
    "    if x == 'male':\n",
    "        return 0\n",
    "    else:\n",
    "        return 1"
   ]
  },
  {
   "cell_type": "code",
   "execution_count": 40,
   "id": "a8b21d0b",
   "metadata": {},
   "outputs": [
    {
     "name": "stdout",
     "output_type": "stream",
     "text": [
      "male      422\n",
      "female    256\n",
      "Name: sex, dtype: int64\n",
      "\n",
      "0    422\n",
      "1    256\n",
      "Name: sex_code, dtype: int64\n"
     ]
    },
    {
     "name": "stderr",
     "output_type": "stream",
     "text": [
      "<ipython-input-40-e92f2777f785>:1: SettingWithCopyWarning: \n",
      "A value is trying to be set on a copy of a slice from a DataFrame.\n",
      "Try using .loc[row_indexer,col_indexer] = value instead\n",
      "\n",
      "See the caveats in the documentation: https://pandas.pydata.org/pandas-docs/stable/user_guide/indexing.html#returning-a-view-versus-a-copy\n",
      "  data2['sex_code'] = data2['sex'].apply(encoding)\n"
     ]
    }
   ],
   "source": [
    "data2['sex_code'] = data2['sex'].apply(encoding)\n",
    "print(data2['sex'].value_counts())\n",
    "print()\n",
    "print(data2['sex_code'].value_counts())"
   ]
  },
  {
   "cell_type": "code",
   "execution_count": 41,
   "id": "a5fad77e",
   "metadata": {},
   "outputs": [
    {
     "name": "stdout",
     "output_type": "stream",
     "text": [
      "     survived     sex     fare   age  sex_code\n",
      "0           0    male   7.2500  22.0         0\n",
      "1           1  female  71.2833  38.0         1\n",
      "2           1  female   7.9250  26.0         1\n",
      "3           1  female  53.1000  35.0         1\n",
      "4           0    male   8.0500  35.0         0\n",
      "..        ...     ...      ...   ...       ...\n",
      "673         0    male  10.5000  28.0         0\n",
      "674         0  female  29.1250  39.0         1\n",
      "675         1  female  30.0000  19.0         1\n",
      "676         1    male  30.0000  26.0         0\n",
      "677         0    male   7.7500  32.0         0\n",
      "\n",
      "[678 rows x 5 columns]\n"
     ]
    }
   ],
   "source": [
    "#인덱스 리셋\n",
    "data2.reset_index(drop = True, inplace = True)\n",
    "print(data2)"
   ]
  },
  {
   "cell_type": "code",
   "execution_count": null,
   "id": "3fd1c580",
   "metadata": {},
   "outputs": [],
   "source": []
  }
 ],
 "metadata": {
  "kernelspec": {
   "display_name": "Python 3",
   "language": "python",
   "name": "python3"
  },
  "language_info": {
   "codemirror_mode": {
    "name": "ipython",
    "version": 3
   },
   "file_extension": ".py",
   "mimetype": "text/x-python",
   "name": "python",
   "nbconvert_exporter": "python",
   "pygments_lexer": "ipython3",
   "version": "3.8.8"
  }
 },
 "nbformat": 4,
 "nbformat_minor": 5
}
